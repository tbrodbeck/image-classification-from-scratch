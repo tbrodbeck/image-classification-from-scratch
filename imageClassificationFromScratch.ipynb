{
 "cells": [
  {
   "cell_type": "markdown",
   "metadata": {},
   "source": [
    "# Image Classification from Scratch\n",
    "#### A Deep learning for Computer Vision Demo Environment by Tillmann Brodbeck\n",
    "This is a demo environment containing all the necessary steps to install a dataset, install a deep learning model and analyze its performance, subsequently.\n",
    "In general it was made sure that every critical step in the Python code is commented and \"speaking\" variables were used to make every bit of code understandable (and to avoid commenting every single line).\n",
    "\n",
    "The first section is about setting up your environment from scratch. Here, a working python3 environment is a prerequisite. \n",
    "It is explained how to download an dataset with `wget`. Additionally all required python libraries are listed.\n",
    "\n",
    "The second section demonstrates which hyperparameters are set and how different hyperparameter configurations can be managed. Additionally it shows how the data preprocessing is done and demonstrates two ways of installing a dataset for training: CIFAR10 is downloaded from `keras` directly and imagenette is imported from disk.\n",
    "\n",
    "Section 3 demonstrates how the models are created and displays the exact architectures that are used in this demonstration in an easy way, built with as `Sequential` `keras` models. Additionally, it demonstrates how the training process can be initiated and outputs the `accuracy` metric and the categorical crossentropy as loss in real time while training.\n",
    "\n",
    "Section 4 demonstrates how the model and its results can be saved to disk using `pickle`.\n",
    "\n",
    "Finally, section 5 shows how trained models can be analyzed. Optionally, models can be imported from disk and tested against the dataset created in section 2. Finally it is shown how simple plots of the training and testing metrics can be created using `matplotlib.pyplot`."
   ]
  },
  {
   "cell_type": "markdown",
   "metadata": {},
   "source": [
    "## 1. Setup your Environment"
   ]
  },
  {
   "cell_type": "markdown",
   "metadata": {},
   "source": [
    "### Download the imagenette Dataset\n",
    "To download the imagenette dataset make sure you have a bash-like environment and `wget` and `tar` installed."
   ]
  },
  {
   "cell_type": "code",
   "execution_count": null,
   "metadata": {},
   "outputs": [],
   "source": [
    "!wget https://s3.amazonaws.com/fast-ai-imageclas/imagenette2.tgz\n",
    "!tar -xf imagenette2.tgz"
   ]
  },
  {
   "cell_type": "markdown",
   "metadata": {},
   "source": [
    "### Install the required Packages into your Environment\n",
    "Anaconda is recommended.\n",
    "\n",
    "The most recent versions right now and the tested version are \n",
    "```\n",
    "keras==2.3.1\n",
    "pickle==0.7.5\n",
    "pillow==7.1.2\n",
    "tensorflow== 2.0.0\n",
    "```"
   ]
  },
  {
   "cell_type": "code",
   "execution_count": null,
   "metadata": {},
   "outputs": [],
   "source": [
    "!pip3 install keras pickle pillow tensorflow"
   ]
  },
  {
   "cell_type": "markdown",
   "metadata": {},
   "source": [
    "### Import the required Libraries into Python"
   ]
  },
  {
   "cell_type": "code",
   "execution_count": 1,
   "metadata": {},
   "outputs": [
    {
     "name": "stderr",
     "output_type": "stream",
     "text": [
      "Using TensorFlow backend.\n"
     ]
    }
   ],
   "source": [
    "from keras.activations import relu\n",
    "from keras.layers import Activation, Conv2D, MaxPool2D, Flatten, Dense, InputLayer, BatchNormalization, Dropout\n",
    "from keras.models import load_model, Sequential\n",
    "from keras.preprocessing.image import ImageDataGenerator\n",
    "import os\n",
    "import pickle\n",
    "import sys\n",
    "import tensorflow as tf"
   ]
  },
  {
   "cell_type": "markdown",
   "metadata": {},
   "source": [
    "### Set the Path for the imagenette Dataset\n",
    "Per default the imagenettePath is `'imagenette2/'` (There has be a slash at the end)"
   ]
  },
  {
   "cell_type": "code",
   "execution_count": 2,
   "metadata": {},
   "outputs": [],
   "source": [
    "imagenettePath = 'imagenette2/'"
   ]
  },
  {
   "cell_type": "markdown",
   "metadata": {},
   "source": [
    "### Choose a Dataset\n",
    "Possible datasets are `'cifar10'` and `'imagenette'`"
   ]
  },
  {
   "cell_type": "code",
   "execution_count": 3,
   "metadata": {},
   "outputs": [],
   "source": [
    "# dataset = 'cifar10'\n",
    "dataset = 'imagenette'"
   ]
  },
  {
   "cell_type": "markdown",
   "metadata": {},
   "source": [
    "## 2. Prepare the Dataset and the Configuration"
   ]
  },
  {
   "cell_type": "code",
   "execution_count": 4,
   "metadata": {},
   "outputs": [
    {
     "name": "stdout",
     "output_type": "stream",
     "text": [
      "Chosen Hyperparameters: {'batchSize': 128, 'keepProb': 0.25, 'activationConv': 'relu', 'activationDense': 'relu', 'epochs': 30, 'denseLayers': 2, 'batchNorm': True}\n",
      "Found 9469 images belonging to 10 classes.\n",
      "Found 3925 images belonging to 10 classes.\n"
     ]
    }
   ],
   "source": [
    "\"\"\" the hyperparameters \"\"\"\n",
    "hyperparameterChoice = 2\n",
    "\n",
    "# different parameter configurations can be tracked in dictionaries for quick comparisons\n",
    "if hyperparameterChoice==0: # test configuration with one epoch only\n",
    "    hyperparameter = {\n",
    "        'batchSize': 128,\n",
    "        'keepProb': .5,\n",
    "        'activationConv': 'relu',\n",
    "        'activationDense': 'relu',\n",
    "        'epochs': 1,\n",
    "        'denseLayers': 1,\n",
    "        'batchNorm': False,\n",
    "    }\n",
    "elif hyperparameterChoice==1:\n",
    "    hyperparameter = {\n",
    "        'batchSize': 128,\n",
    "        'keepProb': .5,\n",
    "        'activationConv': 'relu',\n",
    "        'activationDense': 'relu',\n",
    "        'epochs': 30,\n",
    "        'denseLayers': 1,\n",
    "        'batchNorm': False,\n",
    "    }\n",
    "elif hyperparameterChoice==2:\n",
    "    hyperparameter = {\n",
    "        'batchSize': 128,\n",
    "        'keepProb': .25,\n",
    "        'activationConv': 'relu',\n",
    "        'activationDense': 'relu',\n",
    "        'epochs': 30,\n",
    "        'denseLayers': 2,\n",
    "        'batchNorm': True,\n",
    "    }\n",
    "\n",
    "print('Chosen Hyperparameters:', hyperparameter)\n",
    "\n",
    "batchSize = hyperparameter['batchSize']\n",
    "keepProb = hyperparameter['keepProb']\n",
    "activationConv = hyperparameter['activationConv']\n",
    "activationDense = hyperparameter['activationDense']\n",
    "epochs = hyperparameter['epochs']\n",
    "denseLayers = hyperparameter['denseLayers']\n",
    "batchNorm = hyperparameter['batchNorm']\n",
    "\n",
    "\"\"\" the loading and preprocessing the data \"\"\"\n",
    "# setup image preprocessing\n",
    "datagen = ImageDataGenerator(horizontal_flip=True, \n",
    "                             rescale=1./255, # scales the images to values between 0 and 1\n",
    "                             width_shift_range=0.1, # randomly shift images horizontally (fraction of total width)\n",
    "                             height_shift_range=0.1, # randomly shift images vertically (fraction of total height)\n",
    "                             rotation_range=1 # rotate the images randomly in the range of 1 degree\n",
    "                            )\n",
    "\n",
    "if dataset=='cifar10': # downloads CIFAR10 from keras\n",
    "    from keras.datasets import cifar10\n",
    "    from keras.utils import to_categorical\n",
    "    \n",
    "    (x_train, y_train), (x_test, y_test) = cifar10.load_data()\n",
    "    x_train = x_train.astype('float32')\n",
    "    x_test = x_test.astype('float32')\n",
    "    y_train = to_categorical(y_train, 10)\n",
    "    y_test = to_categorical(y_test, 10)\n",
    "    print(x_train.shape[0], 'Train Samples')\n",
    "    print(x_test.shape[0], 'Test Samples')\n",
    "\n",
    "    datagen.fit(x_train)\n",
    "    train = datagen.flow(x_train, y_train, batch_size=batchSize, shuffle=True)\n",
    "    val = (x_test, y_test)\n",
    "    \n",
    "elif dataset=='imagenette': # installs `imagenette` from disk\n",
    "    # load train data\n",
    "    train = datagen.flow_from_directory(\"{}train/\".format(imagenettePath), class_mode=\"categorical\", shuffle=True, batch_size=batchSize, target_size=(224, 224))\n",
    "    # load val data\n",
    "    val = datagen.flow_from_directory(\"{}val/\".format(imagenettePath), class_mode=\"categorical\", shuffle=True, batch_size=batchSize, target_size=(224, 224))\n",
    "else:\n",
    "    raise ValueError(f'Invalid Value: {dataset} - only cifar10 and imagenette are valid')"
   ]
  },
  {
   "cell_type": "markdown",
   "metadata": {},
   "source": [
    "## 3. Create and Train the Model"
   ]
  },
  {
   "cell_type": "code",
   "execution_count": null,
   "metadata": {},
   "outputs": [
    {
     "name": "stdout",
     "output_type": "stream",
     "text": [
      "Model: \"sequential_1\"\n",
      "_________________________________________________________________\n",
      "Layer (type)                 Output Shape              Param #   \n",
      "=================================================================\n",
      "conv2d_1 (Conv2D)            (None, 224, 224, 16)      1216      \n",
      "_________________________________________________________________\n",
      "activation_1 (Activation)    (None, 224, 224, 16)      0         \n",
      "_________________________________________________________________\n",
      "max_pooling2d_1 (MaxPooling2 (None, 112, 112, 16)      0         \n",
      "_________________________________________________________________\n",
      "conv2d_2 (Conv2D)            (None, 56, 56, 32)        12832     \n",
      "_________________________________________________________________\n",
      "activation_2 (Activation)    (None, 56, 56, 32)        0         \n",
      "_________________________________________________________________\n",
      "max_pooling2d_2 (MaxPooling2 (None, 28, 28, 32)        0         \n",
      "_________________________________________________________________\n",
      "batch_normalization_1 (Batch (None, 28, 28, 32)        128       \n",
      "_________________________________________________________________\n",
      "conv2d_3 (Conv2D)            (None, 14, 14, 64)        18496     \n",
      "_________________________________________________________________\n",
      "activation_3 (Activation)    (None, 14, 14, 64)        0         \n",
      "_________________________________________________________________\n",
      "max_pooling2d_3 (MaxPooling2 (None, 7, 7, 64)          0         \n",
      "_________________________________________________________________\n",
      "batch_normalization_2 (Batch (None, 7, 7, 64)          256       \n",
      "_________________________________________________________________\n",
      "dropout_1 (Dropout)          (None, 7, 7, 64)          0         \n",
      "_________________________________________________________________\n",
      "flatten_1 (Flatten)          (None, 3136)              0         \n",
      "_________________________________________________________________\n",
      "dense_1 (Dense)              (None, 100)               313700    \n",
      "_________________________________________________________________\n",
      "dense_2 (Dense)              (None, 100)               10100     \n",
      "_________________________________________________________________\n",
      "dropout_2 (Dropout)          (None, 100)               0         \n",
      "_________________________________________________________________\n",
      "dense_3 (Dense)              (None, 10)                1010      \n",
      "_________________________________________________________________\n",
      "activation_4 (Activation)    (None, 10)                0         \n",
      "=================================================================\n",
      "Total params: 357,738\n",
      "Trainable params: 357,546\n",
      "Non-trainable params: 192\n",
      "_________________________________________________________________\n",
      "Epoch 1/30\n",
      "74/74 [==============================] - 224s 3s/step - loss: 1.8974 - accuracy: 0.3591 - val_loss: 2.2179 - val_accuracy: 0.2594\n",
      "Epoch 2/30\n",
      "74/74 [==============================] - 234s 3s/step - loss: 1.5055 - accuracy: 0.4990 - val_loss: 2.2145 - val_accuracy: 0.2064\n",
      "Epoch 3/30\n",
      "74/74 [==============================] - 255s 3s/step - loss: 1.3595 - accuracy: 0.5500 - val_loss: 1.9456 - val_accuracy: 0.3113\n",
      "Epoch 4/30\n",
      "74/74 [==============================] - 235s 3s/step - loss: 1.2487 - accuracy: 0.5903 - val_loss: 2.7210 - val_accuracy: 0.2479\n",
      "Epoch 5/30\n",
      "74/74 [==============================] - 241s 3s/step - loss: 1.1598 - accuracy: 0.6261 - val_loss: 1.4985 - val_accuracy: 0.5185\n",
      "Epoch 6/30\n",
      "74/74 [==============================] - 233s 3s/step - loss: 1.0656 - accuracy: 0.6550 - val_loss: 1.3580 - val_accuracy: 0.5651\n",
      "Epoch 7/30\n",
      "74/74 [==============================] - 243s 3s/step - loss: 1.0008 - accuracy: 0.6697 - val_loss: 1.1682 - val_accuracy: 0.6298\n",
      "Epoch 8/30\n",
      "74/74 [==============================] - 231s 3s/step - loss: 0.9633 - accuracy: 0.6855 - val_loss: 1.4945 - val_accuracy: 0.5422\n",
      "Epoch 9/30\n",
      "74/74 [==============================] - 232s 3s/step - loss: 0.9226 - accuracy: 0.7029 - val_loss: 1.7433 - val_accuracy: 0.5623\n",
      "Epoch 10/30\n",
      "74/74 [==============================] - 232s 3s/step - loss: 0.8936 - accuracy: 0.7094 - val_loss: 1.2251 - val_accuracy: 0.6283\n",
      "Epoch 11/30\n",
      "74/74 [==============================] - 202s 3s/step - loss: 0.8504 - accuracy: 0.7259 - val_loss: 1.1220 - val_accuracy: 0.6438\n",
      "Epoch 12/30\n",
      "34/74 [============>.................] - ETA: 1:26 - loss: 0.8317 - accuracy: 0.7271"
     ]
    }
   ],
   "source": [
    "\"\"\" the architectures \"\"\"\n",
    "\n",
    "if dataset=='imagenette':\n",
    "    architecture = 1 # Architecture 1 is tuned to perform well on the imagenette dataset (but it does not perform too well on CIFAR)\n",
    "if dataset=='cifar10':\n",
    "    architecture = 2 # Architecture 2 performs better for CIFAR, but has a training time that is too large for 'imagenette' (more than 1h per epoch on my resources)\n",
    "\n",
    "if architecture==1:\n",
    "    model = Sequential()\n",
    "\n",
    "    # 1st conv block\n",
    "    model.add(Conv2D(16, (5, 5), input_shape=train[0][0].shape[1:], strides=(1, 1), padding='same'))\n",
    "    model.add(Activation(activationConv))\n",
    "    model.add(MaxPool2D(pool_size=(2, 2), padding='same'))\n",
    "\n",
    "    # 2nd conv block\n",
    "    model.add(Conv2D(32, (5, 5), strides=(2, 2), padding='same'))\n",
    "    model.add(Activation(activationConv))\n",
    "    model.add(MaxPool2D(pool_size=(2, 2)))\n",
    "    if batchNorm:\n",
    "        model.add(BatchNormalization())\n",
    "\n",
    "    # 3rd conv block\n",
    "    model.add(Conv2D(64, (3, 3), strides=(2, 2), padding='same'))\n",
    "    model.add(Activation(activationConv))\n",
    "    model.add(MaxPool2D(pool_size=(2, 2)))\n",
    "    if batchNorm:\n",
    "        model.add(BatchNormalization())\n",
    "    model.add(Dropout(keepProb))\n",
    "    \n",
    "    # ANN block\n",
    "    model.add(Flatten())\n",
    "    for i in range(denseLayers):\n",
    "        model.add(Dense(units=100, activation=activationDense))\n",
    "    model.add(Dropout(keepProb))\n",
    "\n",
    "    # output layer\n",
    "    model.add(Dense(units=10))\n",
    "    model.add(Activation('softmax'))\n",
    "\n",
    "elif architecture==2:\n",
    "    model = Sequential()\n",
    "    # 1st 2xconv block\n",
    "    model.add(Conv2D(32, (3, 3), padding='same', input_shape=train[0][0].shape[1:]))\n",
    "    model.add(Activation(activationConv))\n",
    "    model.add(Conv2D(32, (3, 3)))\n",
    "    model.add(Activation(activationConv))\n",
    "    model.add(MaxPool2D(pool_size=(2, 2)))\n",
    "    model.add(Dropout(keepProb))\n",
    "\n",
    "    # 2nd 2xconv block\n",
    "    model.add(Conv2D(64, (3, 3), padding='same'))\n",
    "    model.add(Activation(activationConv))\n",
    "    model.add(Conv2D(64, (3, 3)))\n",
    "    model.add(Activation(activationConv))\n",
    "    model.add(MaxPool2D(pool_size=(2, 2)))\n",
    "    model.add(Dropout(keepProb))\n",
    "\n",
    "    # ANN block\n",
    "    model.add(Flatten())\n",
    "    model.add(Dense(512))\n",
    "    model.add(Activation('relu'))\n",
    "    model.add(Dropout(0.5))\n",
    "\n",
    "    # output layer\n",
    "    model.add(Dense(units=10))\n",
    "    model.add(Activation('softmax'))\n",
    "\n",
    "else:\n",
    "    raise ValueError(f'architecture number {architecture} is out of range')\n",
    "    \n",
    "model.summary()\n",
    "# compile model\n",
    "model.compile(loss='categorical_crossentropy', optimizer=\"adam\", metrics=['accuracy'])\n",
    "\n",
    "\"\"\" the training \"\"\"\n",
    "# fit on data\n",
    "result = model.fit_generator(train, epochs=epochs, validation_data=val)"
   ]
  },
  {
   "cell_type": "markdown",
   "metadata": {},
   "source": [
    "### Create a notification or alarm as soon as the training is done.\n",
    "This is optional and if you are not on MacOS you might want to adapt the code to fit your setup."
   ]
  },
  {
   "cell_type": "code",
   "execution_count": null,
   "metadata": {},
   "outputs": [],
   "source": [
    "!osascript -e 'display notification \"is done!\" with title \"Nobebook\"'\n",
    "!say 'Notebook done!''"
   ]
  },
  {
   "cell_type": "markdown",
   "metadata": {},
   "source": [
    "## 4. Save the Model and the Results to Disk"
   ]
  },
  {
   "cell_type": "code",
   "execution_count": 5,
   "metadata": {},
   "outputs": [
    {
     "ename": "NameError",
     "evalue": "name 'architecture' is not defined",
     "output_type": "error",
     "traceback": [
      "\u001b[0;31m---------------------------------------------------------------------------\u001b[0m",
      "\u001b[0;31mNameError\u001b[0m                                 Traceback (most recent call last)",
      "\u001b[0;32m<ipython-input-5-6da64c1a55d6>\u001b[0m in \u001b[0;36m<module>\u001b[0;34m\u001b[0m\n\u001b[1;32m      2\u001b[0m \u001b[0;32mif\u001b[0m \u001b[0;32mnot\u001b[0m \u001b[0mos\u001b[0m\u001b[0;34m.\u001b[0m\u001b[0mpath\u001b[0m\u001b[0;34m.\u001b[0m\u001b[0mexists\u001b[0m\u001b[0;34m(\u001b[0m\u001b[0moutDir\u001b[0m\u001b[0;34m)\u001b[0m\u001b[0;34m:\u001b[0m\u001b[0;34m\u001b[0m\u001b[0;34m\u001b[0m\u001b[0m\n\u001b[1;32m      3\u001b[0m     \u001b[0mos\u001b[0m\u001b[0;34m.\u001b[0m\u001b[0mmakedirs\u001b[0m\u001b[0;34m(\u001b[0m\u001b[0moutDir\u001b[0m\u001b[0;34m)\u001b[0m\u001b[0;34m\u001b[0m\u001b[0;34m\u001b[0m\u001b[0m\n\u001b[0;32m----> 4\u001b[0;31m \u001b[0mrunName\u001b[0m \u001b[0;34m=\u001b[0m \u001b[0;34m'{}{}_{}'\u001b[0m\u001b[0;34m.\u001b[0m\u001b[0mformat\u001b[0m\u001b[0;34m(\u001b[0m\u001b[0moutDir\u001b[0m\u001b[0;34m,\u001b[0m \u001b[0marchitecture\u001b[0m\u001b[0;34m,\u001b[0m \u001b[0mhyperparameterChoice\u001b[0m\u001b[0;34m)\u001b[0m\u001b[0;34m\u001b[0m\u001b[0;34m\u001b[0m\u001b[0m\n\u001b[0m\u001b[1;32m      5\u001b[0m \u001b[0mmodel\u001b[0m\u001b[0;34m.\u001b[0m\u001b[0msave\u001b[0m\u001b[0;34m(\u001b[0m\u001b[0;34m'{}.model'\u001b[0m\u001b[0;34m.\u001b[0m\u001b[0mformat\u001b[0m\u001b[0;34m(\u001b[0m\u001b[0mrunName\u001b[0m\u001b[0;34m)\u001b[0m\u001b[0;34m)\u001b[0m\u001b[0;34m\u001b[0m\u001b[0;34m\u001b[0m\u001b[0m\n\u001b[1;32m      6\u001b[0m \u001b[0;32mwith\u001b[0m \u001b[0mopen\u001b[0m\u001b[0;34m(\u001b[0m\u001b[0;34m'{}result.p'\u001b[0m\u001b[0;34m.\u001b[0m\u001b[0mformat\u001b[0m\u001b[0;34m(\u001b[0m\u001b[0mrunName\u001b[0m\u001b[0;34m)\u001b[0m\u001b[0;34m,\u001b[0m \u001b[0;34m'wb'\u001b[0m\u001b[0;34m)\u001b[0m \u001b[0;32mas\u001b[0m \u001b[0mfile\u001b[0m\u001b[0;34m:\u001b[0m\u001b[0;34m\u001b[0m\u001b[0;34m\u001b[0m\u001b[0m\n",
      "\u001b[0;31mNameError\u001b[0m: name 'architecture' is not defined"
     ]
    }
   ],
   "source": [
    "outDir = 'results/'\n",
    "if not os.path.exists(outDir):\n",
    "    os.makedirs(outDir)\n",
    "runName = '{}{}_{}'.format(outDir, architecture, hyperparameterChoice)\n",
    "model.save('{}.model'.format(runName))\n",
    "with open('{}result.p'.format(runName), 'wb') as file:\n",
    "    pickle.dump(result, file)\n",
    "print(f'Models and Training Output were saved to the Directory {outDir}')"
   ]
  },
  {
   "cell_type": "markdown",
   "metadata": {},
   "source": [
    "## 5. Analyze the Results\n",
    "### Load the data from a file\n",
    "This is optional and will overwrite the results of the previous training if not `None`."
   ]
  },
  {
   "cell_type": "code",
   "execution_count": 5,
   "metadata": {},
   "outputs": [
    {
     "name": "stdout",
     "output_type": "stream",
     "text": [
      "WARNING:tensorflow:From /usr/local/anaconda3/lib/python3.7/site-packages/tensorflow_core/python/ops/resource_variable_ops.py:1630: calling BaseResourceVariable.__init__ (from tensorflow.python.ops.resource_variable_ops) with constraint is deprecated and will be removed in a future version.\n",
      "Instructions for updating:\n",
      "If using Keras pass *_constraint arguments to layers.\n",
      "WARNING:tensorflow:From /usr/local/anaconda3/lib/python3.7/site-packages/keras/backend/tensorflow_backend.py:4070: The name tf.nn.max_pool is deprecated. Please use tf.nn.max_pool2d instead.\n",
      "\n",
      "WARNING:tensorflow:From /usr/local/anaconda3/lib/python3.7/site-packages/keras/backend/tensorflow_backend.py:422: The name tf.global_variables is deprecated. Please use tf.compat.v1.global_variables instead.\n",
      "\n"
     ]
    }
   ],
   "source": [
    "loadResultsFrom = 'out/out1_2' # if None, it takes current ouput and model. Else specify outDir and runName (e.g: 'outDir/1_2') TODO change to default\n",
    "\n",
    "if loadResultsFrom:\n",
    "    model = load_model('{}.model'.format(loadResultsFrom))\n",
    "    with open('{}history.p'.format(loadResultsFrom), 'rb') as file: # TODO change history\n",
    "        output = pickle.load(file)"
   ]
  },
  {
   "cell_type": "markdown",
   "metadata": {},
   "source": [
    "### Evaluate the Model on the current Test Set"
   ]
  },
  {
   "cell_type": "code",
   "execution_count": 9,
   "metadata": {},
   "outputs": [
    {
     "name": "stdout",
     "output_type": "stream",
     "text": [
      "This will return the Test loss and Accuracy:\n",
      "31/31 [==============================] - 83s 3s/step\n"
     ]
    },
    {
     "data": {
      "text/plain": [
       "[4.563850402832031, 0.10420382022857666]"
      ]
     },
     "execution_count": 9,
     "metadata": {},
     "output_type": "execute_result"
    }
   ],
   "source": [
    "print('This will return the current test loss and accuracy:') # TODO run again\n",
    "model.evaluate_generator(val, verbose=1)"
   ]
  },
  {
   "cell_type": "markdown",
   "metadata": {},
   "source": [
    "### Create Training Plots"
   ]
  },
  {
   "cell_type": "code",
   "execution_count": 6,
   "metadata": {},
   "outputs": [
    {
     "data": {
      "image/png": "[encoded data removed]",
      "text/plain": [
       "<Figure size 432x288 with 1 Axes>"
      ]
     },
     "metadata": {
      "needs_background": "light"
     },
     "output_type": "display_data"
    },
    {
     "data": {
      "image/png": "[encoded data removed]",
      "text/plain": [
       "<Figure size 432x288 with 1 Axes>"
      ]
     },
     "metadata": {
      "needs_background": "light"
     },
     "output_type": "display_data"
    }
   ],
   "source": [
    "import matplotlib.pyplot as plt\n",
    "\n",
    "for plotType in ['accuracy', 'val_accuracy']:\n",
    "    plt.plot(output.history[plotType])\n",
    "    if plotType=='accuracy':\n",
    "        plt.title('Training')\n",
    "    if plotType=='val_accuracy':\n",
    "        plt.title('Testing')\n",
    "    plt.xlabel('Epoch')\n",
    "    plt.ylabel('Accuracy')\n",
    "    plt.show()"
   ]
  }
 ],
 "metadata": {
  "kernelspec": {
   "display_name": "Python (myenv)",
   "language": "python",
   "name": "myenv"
  },
  "language_info": {
   "codemirror_mode": {
    "name": "ipython",
    "version": 3
   },
   "file_extension": ".py",
   "mimetype": "text/x-python",
   "name": "python",
   "nbconvert_exporter": "python",
   "pygments_lexer": "ipython3",
   "version": "3.7.7"
  }
 },
 "nbformat": 4,
 "nbformat_minor": 4
}
